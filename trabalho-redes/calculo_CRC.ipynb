{
 "cells": [
  {
   "cell_type": "markdown",
   "metadata": {},
   "source": [
    "# Cálculo do CRC"
   ]
  },
  {
   "cell_type": "markdown",
   "metadata": {},
   "source": [
    " Essa é a classe que representa o CRC. Nela temos os seguintes atributos:\n",
    "  - polinômio: polinômio gerador usado na detecção de erros.\n",
    "  - msg (mensagem): dados a serem transmitidos.\n",
    "  - code: código usado na verificação de erro da mensagem."
   ]
  },
  {
   "cell_type": "code",
   "execution_count": 7,
   "metadata": {},
   "outputs": [],
   "source": [
    "import binascii\n",
    "class CRC:\n",
    "    def __init__(self, msg):\n",
    "        self.polinomio = '11000000000000101'\n",
    "        self.msg = msg[2:]\n",
    "        self.code = (len(self.polinomio) - 1) * '0'"
   ]
  },
  {
   "cell_type": "markdown",
   "metadata": {},
   "source": [
    "A seguir temos como é gerado o CRC e a verificação do mesmo. No `verificaCRC` simplesmente é retornado o código gerado para visualização. \n",
    "Em `gerarCRC`, o código gerado a partir do polinômio é colocado no fim da mensagem. Em seguida percorremos a mensagem à procura de um bit = `1`, à partir desse bit é feito uma operção `XOR` bit a bit da mensagem com o polinômio gerador. Ao fim da operação é retornado somente o código no fim da mensagem."
   ]
  },
  {
   "cell_type": "code",
   "execution_count": 8,
   "metadata": {},
   "outputs": [],
   "source": [
    "    def verificarCRC(self, code):\n",
    "        return self.gerarCRC(code)\n",
    "\n",
    "    def gerarCRC(self, code = '-1'):\n",
    "        if(code == '-1'):\n",
    "            code = self.code\n",
    "            \n",
    "        tamanhoMsg = len(self.msg)\n",
    "\n",
    "        # Adicionando o codigo ao fim da menssagem\n",
    "        msg = self.msg + code\n",
    "\n",
    "        # convertendo em listas\n",
    "        msg = list(msg)\n",
    "        polinomio = list(self.polinomio)\n",
    "\n",
    "        for i in range(tamanhoMsg):\n",
    "            # Caso encontre 1, percorremos len(code) bits para frente para verificar\n",
    "            if msg[i] == '1':\n",
    "                # teste com o polinomio os valores da msg\n",
    "                for j in range(len(polinomio)):\n",
    "                    msg[i+j] = str((int(msg[i+j]) ^ int(polinomio[j])))\n",
    "\n",
    "        # enviando somente o codigo que esta ao fim da menssagem\n",
    "        return ''.join(msg[-len(code):])\n",
    "    "
   ]
  },
  {
   "cell_type": "markdown",
   "metadata": {},
   "source": [
    "<div align='center'>\n",
    "   <a href='cliente.ipynb' style=\"padding-right: 2em;\"><i class=\"fa fa-angle-double-left\"></i>Cliente</a>\n",
    "   <a href='quadro.ipynb'>Quadro<i class=\"fa fa-angle-double-right\"></i></a>\n",
    "</div>"
   ]
  }
 ],
 "metadata": {
  "kernelspec": {
   "display_name": "Python 3",
   "language": "python",
   "name": "python3"
  },
  "language_info": {
   "codemirror_mode": {
    "name": "ipython",
    "version": 3
   },
   "file_extension": ".py",
   "mimetype": "text/x-python",
   "name": "python",
   "nbconvert_exporter": "python",
   "pygments_lexer": "ipython3",
   "version": "3.6.4"
  }
 },
 "nbformat": 4,
 "nbformat_minor": 2
}
