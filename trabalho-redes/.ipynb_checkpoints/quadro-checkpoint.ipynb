{
 "cells": [
  {
   "cell_type": "markdown",
   "metadata": {},
   "source": [
    "# Quadro de dados"
   ]
  },
  {
   "cell_type": "markdown",
   "metadata": {},
   "source": [
    "Essa classe é responsável por criar um quadro que vai ser utilizado no envio de informações para o servidor.\n",
    "\n",
    "Ela deve receber:\n",
    "   - IP da máquina que está destino (destination)\n",
    "   - IP da máquina que está enviando (source)\n",
    "   - A mensagem (payload)\n",
    "   - Um bit de sequencia (bitSequence)\n",
    "\n",
    "A classe `QuadroDados` possui os seguintes atributos:\n",
    "   - delimiter: delimitador de mensagem (fixo).\n",
    "   - length: é referente ao tamanho da mensagem(payload).\n",
    "   - sequence: byte de sequêncida do quadro.\n",
    "   - destinationAddress: endereço de destino do quadro.\n",
    "   - sourceAddress: endereço de origem do quadro.\n",
    "   - payload : mensagem a ser enviada (dados).\n",
    "   - mensagemEmBits: mensagem convertida em bits.\n",
    "   - mensagemFinal: a concatenação dos campos + o código crc, é a mensagem no formato final para ser enviada na rede.\n",
    "    "
   ]
  },
  {
   "cell_type": "code",
   "execution_count": null,
   "metadata": {},
   "outputs": [],
   "source": [
    "import binascii\n",
    "from convertCRC import CRC\n",
    "\n",
    "class QuadroDados:\n",
    "    def __init__(self, destination, source, payload, bitSequence):\n",
    "        # O byte delimitador é fixo\n",
    "        self.delimiter = \"0b01111110\"\n",
    "        #byte de tamanho  \n",
    "        self.length = self.defineTamanho(payload)\n",
    "        # O byte de sequência do quadro\n",
    "        self.sequence = self.defineSequence(bitSequence)\n",
    "        # Endereço de destino, recebe o ip em string e é convertido para bits (4 bytes).\n",
    "        self.destinationAddress = self.converteIpBinario(destination)\n",
    "        # Endereço de origem, recebe o ip da fonte em string e é convertido para bits (4 bytes).\n",
    "        self.sourceAddress = self.converteIpBinario(source)\n",
    "        #Essa é a mensagem que vai ser enviada. Ela é convertida para bits\n",
    "        self.payload = self.definePayload(payload)\n",
    "        #Essa variável possui a concatenação dos campos anteriores em bits\n",
    "        #Vai ser utilizada para criar o código CRC\n",
    "        self.mensagemEmBits = self.preparaMensagem()\n",
    "        #Enviamos os campos e recebemos o código\n",
    "        self.codeCRC = CRC(self.mensagemEmBits).gerarCRC()\n",
    "        #A mensagem final que será enviada na rede \n",
    "        self.mensagemFinal = self.mensagemEmBits + self.codeCRC\n",
    "        "
   ]
  },
  {
   "cell_type": "markdown",
   "metadata": {},
   "source": [
    " A `getQuadro` é a função que devolve o quadro em bytes para ser enviado para o servidor."
   ]
  },
  {
   "cell_type": "code",
   "execution_count": null,
   "metadata": {},
   "outputs": [],
   "source": [
    "    def getQuadro(self):\n",
    "        mensagemSeparada = []\n",
    "        i = 0\n",
    "        mensagemEmBit = self.mensagemFinal[2:]\n",
    "        while(i < len(mensagemEmBit)):\n",
    "            novaMensagem = '0b'\n",
    "            novaMensagem = mensagemEmBit[i:(i+8)]\n",
    "            mensagemSeparada.append(novaMensagem)\n",
    "            i += 8\n",
    "        \n",
    "        for posicao, mensagem in enumerate(mensagemSeparada):\n",
    "            mensagemSeparada[posicao] = str(hex(int(mensagemSeparada[posicao], 2)))[2:]\n",
    "            while(len(mensagemSeparada[posicao]) < 2):\n",
    "                mensagemSeparada[posicao] = \"0\" + mensagemSeparada[posicao] \n",
    "            \n",
    "        mensagemFinal = \"\"\n",
    "        for mensagem in mensagemSeparada:\n",
    "            mensagemFinal += mensagem\n",
    "        \n",
    "        mensagemFinal = bytes.fromhex(mensagemFinal)\n",
    "        return mensagemFinal"
   ]
  },
  {
   "cell_type": "code",
   "execution_count": null,
   "metadata": {},
   "outputs": [],
   "source": [
    "    #Define o tamanho da mensagem em bits\n",
    "    def defineTamanho(self, payload):\n",
    "        #Pegamos o tamanho da string mensagem\n",
    "        length = bin(len(payload))\n",
    "        #retiramos os dois primeiros bits (que são '0b', indicando que estamos tratando um binário)\n",
    "        length = length[2:]\n",
    "        \n",
    "        #Pode ser que a mensagem seja pequena, o que irá gerar um binário pequeno\n",
    "        #Sendo assim, completamos a mensagem com 0's até que ela tenha 1 byte\n",
    "        while (len(length) < 8):\n",
    "            length = \"0\"+length\n",
    "        #Concatenamos 0b no início para indicar que a string se trata de um binário\n",
    "        length = \"0b\" + length\n",
    "        return length\n",
    "    "
   ]
  },
  {
   "cell_type": "markdown",
   "metadata": {},
   "source": [
    "  - O bit de sequência irá variar o seu primeiro e seu último bit.\n",
    "  - O bit mais a esquerda será o número de sequência de envio de quadro (0 ou 1).\n",
    "  - O bit mais a direita será o bit ACK. Como esse quadro apenas será utilizado no envio, o bit ACK se torna irrelevante, logo, pode ser sempre 0."
   ]
  },
  {
   "cell_type": "code",
   "execution_count": null,
   "metadata": {},
   "outputs": [],
   "source": [
    "    def defineSequence(self,bitSequence):\n",
    "        return \"0b\"+str(bitSequence)+\"0000000\"  "
   ]
  },
  {
   "cell_type": "markdown",
   "metadata": {},
   "source": [
    "Nessa função convertemos um ip para um número binário:"
   ]
  },
  {
   "cell_type": "code",
   "execution_count": null,
   "metadata": {},
   "outputs": [],
   "source": [
    "    def converteIpBinario(self, ip):\n",
    "        #Primeiro separamos os IP's por ponto\n",
    "        #Exemplo: 192.168.0.1 se torna ['192','168','0','1']\n",
    "        ip = ip.split(\".\")\n",
    "        #Para cada item do nosso ip\n",
    "        for posicao in range(len(ip)):\n",
    "            #convertemos aquele número para binário retirando os dois primeiros bits '0b'\n",
    "            ip[posicao] = bin(int(ip[posicao]))[2:]\n",
    "            #Caso o item seja menor que um byte, devemos preenchê-los com zero.\n",
    "            #Semelhante ao caso da mensagem.\n",
    "            while(len(ip[posicao]) < 8):\n",
    "                ip[posicao] = \"0\" + ip[posicao]\n",
    "            #No final, incluímos o '0b' para dizer que trata-se de um número binário\n",
    "            ip[posicao] = \"0b\" + ip[posicao]\n",
    "        #No final, apenas concatenamos todos os elementos da lista ignorando o '0b'\n",
    "        sequencia = \"0b\"\n",
    "        for byte in ip:\n",
    "            sequencia += byte[2:]\n",
    "        return sequencia"
   ]
  },
  {
   "cell_type": "markdown",
   "metadata": {},
   "source": [
    "Nesse momento iremos converter a mensagem para binário:"
   ]
  },
  {
   "cell_type": "code",
   "execution_count": null,
   "metadata": {},
   "outputs": [],
   "source": [
    "    def definePayload(self,payload):\n",
    "        #Começamos indicando que se trata de um binário\n",
    "        binario = \"0b\"\n",
    "        # para cara caracter da mensagem...\n",
    "        for char in payload:\n",
    "            #convertemos aquele char para um código binário\n",
    "            novoChar = bin(int(binascii.hexlify(char.encode('ascii')), 16))\n",
    "            #convertemos aquele char para um código binário\n",
    "            novoChar = novoChar[2:]\n",
    "            #caso seja um binário pequeno, colocaremos 0's no ínio para completar um byte\n",
    "            while(len(novoChar) < 8):\n",
    "                novoChar = \"0\"+novoChar\n",
    "            #concatenamos aquele char a mensagem\n",
    "            binario += novoChar\n",
    "        return binario\n"
   ]
  },
  {
   "cell_type": "markdown",
   "metadata": {},
   "source": [
    "Essa função prepara a mensagem para ser enviada para a 'criação' do código CRC:"
   ]
  },
  {
   "cell_type": "code",
   "execution_count": null,
   "metadata": {},
   "outputs": [],
   "source": [
    "    def preparaMensagem(self):\n",
    "        mensagem = self.delimiter + self.length[2:] + self.sequence[2:] + self.destinationAddress[2:] + self.sourceAddress[2:] + self.payload[2:]\n",
    "        return mensagem\n",
    "    \n",
    "    def __str__(self):\n",
    "        msg =  \"Delimitador : \" + self.delimiter + \"\\n\"\n",
    "        msg += \"Lenght : \" + self.length[2:] + \"\\n\"\n",
    "        msg += \"Sequence : \" + self.sequence[2:] + \"\\n\"\n",
    "        msg += \"Destine Adress : \" + self.destinationAddress[2:] + \"\\n\"\n",
    "        msg += \"Source Adress : \" + self.sourceAddress[2:] + \"\\n\"\n",
    "        msg += \"Msg : \" + self.payload[2:] + \"\\n\"\n",
    "        msg += \"CRC: \" + self.codeCRC\n",
    "        \n",
    "        return msg\n"
   ]
  },
  {
   "cell_type": "markdown",
   "metadata": {},
   "source": [
    "Essa classe é responsável por criar um quadro que vai ser utilizado no envio de confirmações para o cliente:"
   ]
  },
  {
   "cell_type": "code",
   "execution_count": null,
   "metadata": {},
   "outputs": [],
   "source": [
    "class QuadroConfirmacao:\n",
    "    def __init__(self, destination, source, bitSequence, ack):\n",
    "        # bit fixo\n",
    "        self.delimiter = self.delimiter = \"0b01111110\"\n",
    "        # O byte de sequência do quadro, dessa vez utilizaremos o ack para confirmar o recebimento do quadro\n",
    "        self.sequence = self.defineSequence(bitSequence, ack)\n",
    "        # Endereço de destino do quadro. Ele recebe o ip de destino em string\n",
    "        #e é convertido para bits (4 bytes).\n",
    "        self.destinationAddress = self.converteIpBinario(destination)\n",
    "        # Endereço da fonte do quadro. Ele recebe o ip da fonte em string\n",
    "        #e é convertido para bits (4 bytes).\n",
    "        self.sourceAddress = self.converteIpBinario(source)\n",
    "        #Converte a mensagem para bit e prepare para o envio\n",
    "        self.mensagemEmBits = self.preparaMensagem()\n",
    "    "
   ]
  },
  {
   "cell_type": "markdown",
   "metadata": {},
   "source": [
    "- O bit de sequência irá variar o seu primeiro e seu último bit\n",
    "- O bit mais a esquerda será o número de sequência de envio de quadro (0 ou 1)\n",
    "- O bit mais a direita será o bit ACK."
   ]
  },
  {
   "cell_type": "code",
   "execution_count": null,
   "metadata": {},
   "outputs": [],
   "source": [
    "    def defineSequence(self,bitSequence, ack):\n",
    "        return \"0b\"+str(bitSequence)+\"000000\"+str(ack)\n",
    "    "
   ]
  },
  {
   "cell_type": "code",
   "execution_count": null,
   "metadata": {},
   "outputs": [],
   "source": [
    "    #Retorna a mensagem em bytes para que o servidor possa enviar ao cliente\n",
    "    def getQuadro(self):\n",
    "        mensagemSeparada = []\n",
    "        i = 0\n",
    "        mensagemEmBit = self.mensagemEmBits[2:]\n",
    "        while(i < len(mensagemEmBit)):\n",
    "            novaMensagem = '0b'\n",
    "            novaMensagem = mensagemEmBit[i:(i+8)]\n",
    "            mensagemSeparada.append(novaMensagem)\n",
    "            i += 8\n",
    "        \n",
    "        for posicao, mensagem in enumerate(mensagemSeparada):\n",
    "            mensagemSeparada[posicao] = str(hex(int(mensagemSeparada[posicao], 2)))[2:]\n",
    "            while(len(mensagemSeparada[posicao]) < 2):\n",
    "                mensagemSeparada[posicao] = \"0\" + mensagemSeparada[posicao] \n",
    "            \n",
    "        mensagemFinal = \"\"\n",
    "        for mensagem in mensagemSeparada:\n",
    "            mensagemFinal += mensagem\n",
    "        \n",
    "        mensagemFinal = bytes.fromhex(mensagemFinal)\n",
    "        # print(mensagemFinal)\n",
    "        return mensagemFinal"
   ]
  },
  {
   "cell_type": "code",
   "execution_count": null,
   "metadata": {},
   "outputs": [],
   "source": [
    "    #Nessa função convertemos um ip para um número binário\n",
    "    # Mesma função lá de cima\n",
    "    def converteIpBinario(self, ip):\n",
    "        ip = ip.split(\".\")\n",
    "        for posicao in range(len(ip)):\n",
    "            ip[posicao] = bin(int(ip[posicao]))[2:]\n",
    "            while(len(ip[posicao]) < 8):\n",
    "                ip[posicao] = \"0\" + ip[posicao]\n",
    "            ip[posicao] = \"0b\" + ip[posicao]\n",
    "        \n",
    "        sequencia = \"0b\"\n",
    "        for byte in ip:\n",
    "            sequencia += byte[2:]\n",
    "        return sequencia\n",
    "    "
   ]
  },
  {
   "cell_type": "code",
   "execution_count": null,
   "metadata": {},
   "outputs": [],
   "source": [
    "    #Concatena todos os campos para em bits para depois converter em bytes\n",
    "    def preparaMensagem(self):\n",
    "        mensagem = self.delimiter + self.sequence[2:] + self.destinationAddress[2:] + self.sourceAddress[2:]\n",
    "        return mensagem\n"
   ]
  },
  {
   "cell_type": "code",
   "execution_count": null,
   "metadata": {},
   "outputs": [],
   "source": [
    "#Exemplo de uso\n",
    "if __name__ == \"__main__\":\n",
    "    quadroDados = QuadroDados(\"192.168.0.1\", \"192.168.0.2\", \"ola mundo\", 0).getQuadro()\n",
    "    QuadroConfirmacao = QuadroConfirmacao(\"192.168.0.1\", \"192.168.0.2\",0,1).getQuadro()\n"
   ]
  },
  {
   "cell_type": "markdown",
   "metadata": {},
   "source": [
    "<div align='center'>\n",
    "   <a href='calculo_CRC.ipynb' style=\"padding-right: 2em;\"><i class=\"fa fa-angle-double-left\"></i>Cálculo CRC</a>\n",
    "</div>"
   ]
  }
 ],
 "metadata": {
  "kernelspec": {
   "display_name": "Python 3",
   "language": "python",
   "name": "python3"
  },
  "language_info": {
   "codemirror_mode": {
    "name": "ipython",
    "version": 3
   },
   "file_extension": ".py",
   "mimetype": "text/x-python",
   "name": "python",
   "nbconvert_exporter": "python",
   "pygments_lexer": "ipython3",
   "version": "3.6.4"
  }
 },
 "nbformat": 4,
 "nbformat_minor": 2
}
