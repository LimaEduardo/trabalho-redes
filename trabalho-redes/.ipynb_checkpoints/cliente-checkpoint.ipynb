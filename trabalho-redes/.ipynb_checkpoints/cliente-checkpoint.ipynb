{
 "cells": [
  {
   "cell_type": "markdown",
   "metadata": {},
   "source": [
    "# Cliente"
   ]
  },
  {
   "cell_type": "markdown",
   "metadata": {},
   "source": [
    "Função usada para converter a mensagem em bit."
   ]
  },
  {
   "cell_type": "code",
   "execution_count": null,
   "metadata": {},
   "outputs": [],
   "source": [
    "import socket\n",
    "import binascii\n",
    "\n",
    "from convertCRC import CRC\n",
    "from quadro import QuadroDados\n",
    "\n",
    "def transformaEmBit(listaBytes):\n",
    "    resultado = \"0b\"\n",
    "    for item in listaBytes:\n",
    "        item = bin(int(str(item.hex()), 16))[2:]\n",
    "        while(len(item) < 8):\n",
    "            item = \"0\" + item\n",
    "        resultado += item\n",
    "    return resultado"
   ]
  },
  {
   "cell_type": "markdown",
   "metadata": {},
   "source": [
    "Dividimos a mensangem em tamanhos permitidos a serem enviados pela conexão"
   ]
  },
  {
   "cell_type": "code",
   "execution_count": null,
   "metadata": {},
   "outputs": [],
   "source": [
    "def divideMsg(msg, tamMax):\n",
    "    listMsg = []\n",
    "    pos = 0\n",
    "    tamList = len(msg)\n",
    "    while(pos < tamList):\n",
    "        if((pos + tamMax) < tamList):\n",
    "            listMsg.append(msg[pos : pos + tamMax])\n",
    "        else:\n",
    "            listMsg.append(msg[pos:])\n",
    "        pos += tamMax\n",
    "\n",
    "    return listMsg"
   ]
  },
  {
   "cell_type": "markdown",
   "metadata": {},
   "source": [
    "Aqui no reenvio tratamos como um envio normal, ou seja, tudo aquilo que é feito no envio, fazemos de novo.\n"
   ]
  },
  {
   "cell_type": "code",
   "execution_count": null,
   "metadata": {},
   "outputs": [],
   "source": [
    "def reenviaQuadro(conn, quadro, bitSequence):\n",
    "    enviado = False\n",
    "    while enviado:\n",
    "        conn.send(quadro)\n",
    "        # Capturando o quadro de confirmaçao que é enviado pela conexao\n",
    "        quadConfirmacao = b''\n",
    "        # capturando 'bit delimiter'\n",
    "        quadConfirmacao += conn.recv(1)\n",
    "        # Caso esteja vazio, quer dizer que quadro se perdeu no caminho\n",
    "        if(len(quadConfirmacao) <= 0):\n",
    "            enviado = False\n",
    "            continue\n",
    "\n",
    "        # Capturando 'bit sequence'\n",
    "        quadConfirmacao += conn.recv(1)\n",
    "        bitSequence = quadConfirmacao[1]\n",
    "        for i in range(8):\n",
    "            quadConfirmacao += conn.recv(1)\n",
    "\n",
    "        bitSequenceRequest = ['0', '1'] [bitSequence >= 128]\n",
    "        # Teste se resquest é referente ao ultimo quadro enviado pelo cliente\n",
    "\n",
    "        if(bitSequenceRequest == bitSequence):\n",
    "            # Caso seja, eu vejo se mensagem foi recebida com sucesso\n",
    "            if(bitSequence % 2 == 0): # sucesso é: bit de sequencia ter 1 no ACK\n",
    "                enviado = False\n",
    "                continue\n",
    "            else:\n",
    "                enviado = True\n",
    "                continue\n",
    "        else:\n",
    "            enviado = False\n",
    "            continue"
   ]
  },
  {
   "cell_type": "markdown",
   "metadata": {},
   "source": [
    "Declaramos aqui:\n",
    "- Host: Enderenço IP do Servidor\n",
    "- Port: Porta onde esta o servidor\n",
    "- Max_LENGHT: Tamanho maximo para a mensagem a ser enviada"
   ]
  },
  {
   "cell_type": "code",
   "execution_count": null,
   "metadata": {},
   "outputs": [],
   "source": [
    "    HOST = \"127.0.0.1\"     \n",
    "    PORT = 6060\n",
    "    MAX_LENGHT = 255"
   ]
  },
  {
   "cell_type": "markdown",
   "metadata": {},
   "source": [
    "Criamos aqui o Socket de conexão e capturamos o IP para iniciarmos uma conexão logo abaixo declaramos a mensagem padrão para o envio e dividimos ela para o tamanho maximo."
   ]
  },
  {
   "cell_type": "code",
   "execution_count": null,
   "metadata": {},
   "outputs": [],
   "source": [
    "    conn = socket.socket(socket.AF_INET, socket.SOCK_STREAM)\n",
    "    dest = (HOST, PORT)\n",
    "    conn.connect(dest)\n",
    "\n",
    "    meuIP = conn.getsockname()[0]\n",
    "\n",
    "    msg  = \"Todos nos ja ouvimos falar certamente em redes de comunicacao (tambem designadas de redes informaticas ou redes de dados).\\n\"\n",
    "    msg += \"Uma \\\"rede\\\" (na Area da informatica), e definida como um conjunto de equipamentos interligados entre si, e que permitem o transporte\"\n",
    "    msg = divideMsg(msg, MAX_LENGHT)\n",
    "    bitSequenceEnvio = \"\"\n"
   ]
  },
  {
   "cell_type": "markdown",
   "metadata": {},
   "source": [
    "Primeiro criamos um quadro de envio da mensagem e colocamos na posição de \"msg\", então capturamos o quadro de confirmação que é enviado pela conexão, depois capturamos o \"bit delimiter\" e testamos caso esteja vazio, quer dizer que o quadro se perdeu no caminho.\n",
    "Depois capturamos o \"bit sequence\" e testamos se o requeste é referente ao ultimo quadro enviado pelo cliente, caso seja testamos se a mensagem foi enviada com sucesso.\n",
    "Para finalizar enviamos um pacote de desconexão."
   ]
  },
  {
   "cell_type": "code",
   "execution_count": null,
   "metadata": {},
   "outputs": [],
   "source": [
    "for indice,mensagem in enumerate(msg):\n",
    "        bitSequenceEnvio = str(indice%2)\n",
    "\n",
    "        msg[indice] = QuadroDados(HOST, meuIP, mensagem, bitSequenceEnvio).getQuadro()\n",
    "        \n",
    "        conn.send(msg[indice])\n",
    "\n",
    "        quadConfirmacao = b''\n",
    "        \n",
    "        quadConfirmacao += conn.recv(1)\n",
    "        \n",
    "        if(len(quadConfirmacao) <= 0):\n",
    "            reenviaQuadro(conn, msg[indice], bitSequenceEnvio)\n",
    "            continue\n",
    "\n",
    "        quadConfirmacao += conn.recv(1)\n",
    "        bitSequence = quadConfirmacao[1]\n",
    "        for i in range(8):\n",
    "            quadConfirmacao += conn.recv(1)\n",
    "        \n",
    "        bitSequenceRequest = ['0', '1'] [bitSequence >= 128]\n",
    "        \n",
    "        if(bitSequenceRequest == bitSequenceEnvio):\n",
    "            \n",
    "            if(bitSequence % 2 == 0):\n",
    "                print(\"Quadro corrompido\")\n",
    "            else:\n",
    "                print(\"Quadro enviado ao servidor com sucesso\")\n",
    "        else:\n",
    "            reenviaQuadro(conn, msg[indice], bitSequenceEnvio)\n",
    "            continue\n",
    "            \n",
    "        bitSequenceEnvio = ['1', '0'][bitSequenceEnvio == '1']\n",
    "        msgDesconexao = QuadroDados(HOST, meuIP, \"#desconectar#\", bitSequenceEnvio).getQuadro()\n",
    "        conn.send(msgDesconexao)\n",
    "\n",
    "        conn.close()\n",
    "    \n"
   ]
  },
  {
   "cell_type": "markdown",
   "metadata": {},
   "source": [
    "<div align='center'>\n",
    "   <a href='servidor.ipynb' style=\"padding-right: 2em;\"><i class=\"fa fa-angle-double-left\"></i> Servidor</a>\n",
    "   <a href='calculo_CRC.ipynb'>Cálculo CRC<i class=\"fa fa-angle-double-right\"></i></a>\n",
    "</div>"
   ]
  }
 ],
 "metadata": {
  "kernelspec": {
   "display_name": "Python 3",
   "language": "python",
   "name": "python3"
  },
  "language_info": {
   "codemirror_mode": {
    "name": "ipython",
    "version": 3
   },
   "file_extension": ".py",
   "mimetype": "text/x-python",
   "name": "python",
   "nbconvert_exporter": "python",
   "pygments_lexer": "ipython3",
   "version": "3.6.4"
  }
 },
 "nbformat": 4,
 "nbformat_minor": 2
}
