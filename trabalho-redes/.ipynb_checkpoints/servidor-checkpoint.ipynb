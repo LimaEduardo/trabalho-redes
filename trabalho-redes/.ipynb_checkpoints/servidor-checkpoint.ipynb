{
 "cells": [
  {
   "cell_type": "markdown",
   "metadata": {},
   "source": [
    "# Servidor"
   ]
  },
  {
   "cell_type": "markdown",
   "metadata": {},
   "source": [
    "Inicialmente, é definido o endereço IP do servidor e a porta, em HOST e PORT respectivamente. Esses serão o host e a porta de origem.\n",
    "Em seguida, é criado o socket que permitirá a conexão.\n",
    "Após a definição do socket, é feito a conexão do servidor com o cliente. Dado a conexão, o cabeçalho e a mensagem são recebidos, além do código CRC cuja função é a verificação de erros.\n",
    "Caso esteja tudo correto com a mensagem, é feito a verificação se o último quadro enviado faz referência ao quadro atual, desse modo se dá seguimento ao recebimento do próximo pacote. Os dados recebidos são então convertidos para String. Se a mensagem \"desconectar\" for recebida, então é finalizado a conexão com o servidor."
   ]
  },
  {
   "cell_type": "code",
   "execution_count": null,
   "metadata": {},
   "outputs": [],
   "source": [
    "import socket\n",
    "import binascii\n",
    "\n",
    "from convertCRC import CRC\n",
    "from quadro import QuadroConfirmacao\n",
    "\n",
    "\n",
    "def main():\n",
    "    HOST = \"127.0.0.1\"              # Endereco IP do Servidor\n",
    "    PORT = 6060              # Porta que o Servidor está\n",
    "\n",
    "    #criando socket de conexao\n",
    "    conn = socket.socket(socket.AF_INET, socket.SOCK_STREAM)\n",
    "\n",
    "    # host de origem e porta de origem\n",
    "    orig = (HOST, PORT)\n",
    "    \n",
    "    conn.bind(orig)\n",
    "    conn.listen(1)\n",
    "    \n",
    "    while True:\n",
    "\n",
    "        # Efetuando a conexao com cliente\n",
    "        con, cliente = conn.accept()\n",
    "        print(\"Conectado por\", cliente)\n",
    "        ultimoSeq = None\n",
    "        conectado = True\n",
    "        msgfinal = \"\"\n",
    "        loopTest = 0\n",
    "        while conectado:\n",
    "            # byte a verificar é uma lista com todos bytes antes do codigo crc, para fazer verificação\n",
    "            byteAVerificar = []\n",
    "\n",
    "            # capturando o delimitador\n",
    "            cabecalho = b''\n",
    "            cabecalho += con.recv(1)\n",
    "            \n",
    "            byteAVerificar.append(cabecalho)\n",
    "            if(len(cabecalho) <= 0):\n",
    "                if loopTest <= 5:\n",
    "                    continue\n",
    "                else:\n",
    "                    print(\"Falha ao receber mensagem\")\n",
    "                    return\n",
    "\n",
    "            # pegando dados de todo cabecalho (10bytes apos o delimitador)\n",
    "            getBytes = geraListaBytes(con, 10)\n",
    "            byteAVerificar += getBytes\n",
    "            cabecalho += juntaBytes(getBytes)\n",
    "\n",
    "            # pegando dados da msg (cabecalho[1] é lenght, que refere ao tamanho da mensagem)\n",
    "            getBytes = geraListaBytes(con, cabecalho[1])\n",
    "            byteAVerificar += getBytes\n",
    "            dados = getBytes\n",
    "\n",
    "            # pegando codigo CRC (2 bytes apos a msg)\n",
    "            getBytes = geraListaBytes(con, 2)\n",
    "            codeCrc = getBit(getBytes)[2:]\n",
    "            \n",
    "            msgCabeca = getBit(byteAVerificar)\n",
    "\n",
    "            crcG = CRC(msgCabeca)\n",
    "            # Teste o crc, ACK é o ultimo bit do campo sequence, ele refere se a mensagem foi enviada com sucesso\n",
    "            if(crcG.verificarCRC(codeCrc)):\n",
    "                # \"Mensagem recebida com sucesso\"\n",
    "                meuAck = 1\n",
    "            else:\n",
    "                # \"Mensagem corrompida\"\n",
    "                meuAck = 0\n",
    "                \n",
    "            bitSequence = [0, 1][cabecalho[2] == 128]\n",
    "            # Testa se o ultimo quadro enviado é referente ao quadro atual\n",
    "            if(ultimoSeq == bitSequence):\n",
    "                # continua para receber o proximo pacote\n",
    "                continue\n",
    "\n",
    "            # Pego os dados obtidos da captura e converto para string\n",
    "            dados = getBit(dados)\n",
    "            n = int(dados, 2)\n",
    "            dados = binascii.unhexlify('%x' % n).decode('ascii')\n",
    "\n",
    "            # Caso a msg seja #desconectar# finalizo a conexao com servidor\n",
    "            if(dados == \"#desconectar#\"):\n",
    "                conectado = False\n",
    "                continue\n",
    "            msgfinal += dados\n",
    "\n",
    "            quadroConfirmacao = QuadroConfirmacao(cliente[0], HOST, bitSequence, meuAck).getQuadro()\n",
    "            con.sendall(quadroConfirmacao)\n",
    "            ultimoSeq = bitSequence\n",
    "\n",
    "\n",
    "        print(cliente, str(msgfinal))\n",
    "\n",
    "        print(\"Finalizando conexao do cliente\", cliente)\n",
    "        con.close()\n",
    "        return"
   ]
  },
  {
   "cell_type": "markdown",
   "metadata": {},
   "source": [
    "Essas funções fazem referência às mensagens. Elas tratarão o recebimento e o envio. "
   ]
  },
  {
   "cell_type": "code",
   "execution_count": null,
   "metadata": {},
   "outputs": [],
   "source": [
    "def getBit(listaB):\n",
    "    resultado = \"0b\"\n",
    "    for item in listaB:\n",
    "        item = bin(int(str(item.hex()), 16))[2:]\n",
    "        while(len(item) < 8):\n",
    "            item = \"0\" + item\n",
    "        resultado += item\n",
    "    return resultado\n",
    "\n",
    "def geraListaBytes(conn, qtdSerLido):\n",
    "    lista = []\n",
    "    for i in range(qtdSerLido):\n",
    "        byteAtual = conn.recv(1)\n",
    "        lista.append(byteAtual)\n",
    "    return lista\n",
    "\n",
    "def juntaBytes(listaDeBytes):\n",
    "    result = b''\n",
    "    for b in listaDeBytes:\n",
    "        result += b\n",
    "    return result\n",
    "\n"
   ]
  },
  {
   "cell_type": "code",
   "execution_count": null,
   "metadata": {},
   "outputs": [],
   "source": [
    "main()"
   ]
  },
  {
   "cell_type": "markdown",
   "metadata": {},
   "source": [
    " Ao se executar todo o notebook `Servidor` é necessário executar todo o notebook `Cliente`, as mensagens do servidor serão vistas na célula acima após executar o cliente."
   ]
  },
  {
   "cell_type": "markdown",
   "metadata": {},
   "source": [
    "<div align='center'>\n",
    "   <a href='inicio.ipynb' style=\"padding-right: 2em;\"><i class=\"fa fa-angle-double-left\"></i> Início</a>\n",
    "   <a href='cliente.ipynb'>Cliente<i class=\"fa fa-angle-double-right\"></i></a>\n",
    "</div>"
   ]
  }
 ],
 "metadata": {
  "kernelspec": {
   "display_name": "Python 3",
   "language": "python",
   "name": "python3"
  },
  "language_info": {
   "codemirror_mode": {
    "name": "ipython",
    "version": 3
   },
   "file_extension": ".py",
   "mimetype": "text/x-python",
   "name": "python",
   "nbconvert_exporter": "python",
   "pygments_lexer": "ipython3",
   "version": "3.6.4"
  }
 },
 "nbformat": 4,
 "nbformat_minor": 2
}
